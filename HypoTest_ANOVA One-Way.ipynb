{
 "cells": [
  {
   "cell_type": "code",
   "execution_count": 2,
   "id": "33bb6e1c",
   "metadata": {},
   "outputs": [],
   "source": [
    "import numpy as np\n",
    "import pandas as pd\n",
    "import matplotlib.pyplot as plt\n",
    "import statsmodels.api as sm\n",
    "import scipy.stats as stats\n",
    "import seaborn as sns\n",
    "\n",
    "from statsmodels.formula.api import ols\n",
    "from statsmodels.stats.multicomp import pairwise_tukeyhsd\n",
    "\n",
    "%matplotlib inline"
   ]
  },
  {
   "cell_type": "markdown",
   "id": "0cf40429",
   "metadata": {},
   "source": [
    "### Analysis of variance\n",
    "\n",
    "ANOVA is a collection of statistical models and their associated estimation procedures (such as the \"variation\" among and between groups) used to analyze the differences among means. ANOVA was developed by the statistician Ronald Fisher. ANOVA is based on the law of total variance, where the observed variance in a particular variable is partitioned into components attributable to different sources of variation. In its simplest form, ANOVA provides a statistical test of whether two or more population means are equal, and therefore generalizes the t-test beyond two means. In other words, the ANOVA is used to test the difference between two or more means.\n",
    "\n",
    "As we know, T-Tests aim to test whether the means of two groups are different from each other at the population level. That is, thanks to these tests, we can get information about the average of two groups. But in real life, we are often faced with the need to compare the averages of more than two groups. The ANOVA is a statistical inference test that lets you compare multiple groups at the same time. For instance, if we wanted to test whether voter age differs based on some categorical variable like race, we have to compare the means of each level or group the variable.\n",
    "\n",
    "### One-Way ANOVA:\n",
    "\n",
    "What do we mean when we say one-way ANOVA?\n",
    "One-way ANOVA is a type of statistical test that compares the variance in group means within a sample, considering only one independent variable or factor. It is a hypothesis-based test, meaning it aims to evaluate multiple mutually exclusive theories about our data.\n",
    "\n",
    "### When would we use a one-way ANOVA?\n",
    "\n",
    "Use one-way ANOVA when you collect data about a categorical independent variable and a quantitative dependent variable. The independent variable must have at least three levels (ie at least three different groups or categories). The only difference between one-way and two-way ANOVA is the number of independent variables. A one-way ANOVA has one independent variable, while a two-way ANOVA has two.\n",
    "\n",
    "In the case of the ANOVA, we will use the f-distribution."
   ]
  },
  {
   "cell_type": "markdown",
   "id": "53dbe0f9",
   "metadata": {},
   "source": [
    "The one-way ANOVA tests whether the mean of some numeric variable differs across the levels of one categorical variable. For example, testing the relationship between shoe brand (Nike, Adidas, Saucony, Hoka) and race finish times in a marathon.\n",
    "\n",
    "### Our hyphothesis for one-way ANOVA test:\n",
    "\n",
    "Null hypothesis: there is no significant difference between the group means\n",
    "\n",
    "Alternative hypothesis: there is significant difference between the group means"
   ]
  },
  {
   "cell_type": "markdown",
   "id": "dafabfce",
   "metadata": {},
   "source": [
    "### Create random data for one-way ANOVA test"
   ]
  },
  {
   "cell_type": "code",
   "execution_count": 3,
   "id": "dc724bd7",
   "metadata": {},
   "outputs": [],
   "source": [
    "np.random.seed(11)\n",
    "\n",
    "shoe_brand_names = ['nike', 'adidas', 'saucony', 'hoka', 'converse', 'puma', 'timberland']\n",
    "shoe_brands = np.random.choice(a=shoe_brand_names, p=[0.05, 0.13, 0.25, 0.05, 0.3, 0.2, 0.02], size=5000)\n",
    "marathon_times = stats.poisson.rvs(loc=18, mu=30, size=5000)"
   ]
  },
  {
   "cell_type": "code",
   "execution_count": 4,
   "id": "787fe21a",
   "metadata": {},
   "outputs": [
    {
     "data": {
      "text/html": [
       "<div>\n",
       "<style scoped>\n",
       "    .dataframe tbody tr th:only-of-type {\n",
       "        vertical-align: middle;\n",
       "    }\n",
       "\n",
       "    .dataframe tbody tr th {\n",
       "        vertical-align: top;\n",
       "    }\n",
       "\n",
       "    .dataframe thead th {\n",
       "        text-align: right;\n",
       "    }\n",
       "</style>\n",
       "<table border=\"1\" class=\"dataframe\">\n",
       "  <thead>\n",
       "    <tr style=\"text-align: right;\">\n",
       "      <th></th>\n",
       "      <th>shoe</th>\n",
       "      <th>marathon</th>\n",
       "    </tr>\n",
       "  </thead>\n",
       "  <tbody>\n",
       "    <tr>\n",
       "      <th>0</th>\n",
       "      <td>saucony</td>\n",
       "      <td>40</td>\n",
       "    </tr>\n",
       "    <tr>\n",
       "      <th>1</th>\n",
       "      <td>nike</td>\n",
       "      <td>64</td>\n",
       "    </tr>\n",
       "    <tr>\n",
       "      <th>2</th>\n",
       "      <td>hoka</td>\n",
       "      <td>46</td>\n",
       "    </tr>\n",
       "    <tr>\n",
       "      <th>3</th>\n",
       "      <td>converse</td>\n",
       "      <td>58</td>\n",
       "    </tr>\n",
       "    <tr>\n",
       "      <th>4</th>\n",
       "      <td>saucony</td>\n",
       "      <td>50</td>\n",
       "    </tr>\n",
       "    <tr>\n",
       "      <th>...</th>\n",
       "      <td>...</td>\n",
       "      <td>...</td>\n",
       "    </tr>\n",
       "    <tr>\n",
       "      <th>4995</th>\n",
       "      <td>converse</td>\n",
       "      <td>52</td>\n",
       "    </tr>\n",
       "    <tr>\n",
       "      <th>4996</th>\n",
       "      <td>saucony</td>\n",
       "      <td>51</td>\n",
       "    </tr>\n",
       "    <tr>\n",
       "      <th>4997</th>\n",
       "      <td>adidas</td>\n",
       "      <td>38</td>\n",
       "    </tr>\n",
       "    <tr>\n",
       "      <th>4998</th>\n",
       "      <td>saucony</td>\n",
       "      <td>48</td>\n",
       "    </tr>\n",
       "    <tr>\n",
       "      <th>4999</th>\n",
       "      <td>saucony</td>\n",
       "      <td>41</td>\n",
       "    </tr>\n",
       "  </tbody>\n",
       "</table>\n",
       "<p>5000 rows × 2 columns</p>\n",
       "</div>"
      ],
      "text/plain": [
       "          shoe  marathon\n",
       "0      saucony        40\n",
       "1         nike        64\n",
       "2         hoka        46\n",
       "3     converse        58\n",
       "4      saucony        50\n",
       "...        ...       ...\n",
       "4995  converse        52\n",
       "4996   saucony        51\n",
       "4997    adidas        38\n",
       "4998   saucony        48\n",
       "4999   saucony        41\n",
       "\n",
       "[5000 rows x 2 columns]"
      ]
     },
     "execution_count": 4,
     "metadata": {},
     "output_type": "execute_result"
    }
   ],
   "source": [
    "marathon_frame = pd.DataFrame({'shoe': shoe_brands, 'marathon': marathon_times})\n",
    "marathon_frame"
   ]
  },
  {
   "cell_type": "code",
   "execution_count": 5,
   "id": "0a523b29",
   "metadata": {},
   "outputs": [],
   "source": [
    "groups = marathon_frame.groupby('shoe').groups"
   ]
  },
  {
   "cell_type": "code",
   "execution_count": 7,
   "id": "19c5c2af",
   "metadata": {},
   "outputs": [],
   "source": [
    "nike = marathon_times[groups['nike']]\n",
    "adidas = marathon_times[groups['adidas']]\n",
    "saucony = marathon_times[groups['saucony']]\n",
    "hoka = marathon_times[groups['hoka']]\n",
    "converse = marathon_times[groups['converse']]\n",
    "puma = marathon_times[groups['puma']]\n",
    "timberland = marathon_times[groups['timberland']]"
   ]
  },
  {
   "cell_type": "code",
   "execution_count": 11,
   "id": "bee73ae0",
   "metadata": {},
   "outputs": [
    {
     "name": "stdout",
     "output_type": "stream",
     "text": [
      "nike: p-value = 0.7613046425646661\n",
      "adidas: p-value = 0.4203045827491586\n",
      "saucony: p-value = 0.034393676729916695\n",
      "hoka: p-value = 0.4571501797585965\n",
      "converse: p-value = 0.005579882437788775\n",
      "puma: p-value = 0.2398523001510822\n",
      "timberland: p-value = 0.9946520155828917\n"
     ]
    }
   ],
   "source": [
    "normality_results = {}\n",
    "\n",
    "for shoe in ['nike', 'adidas', 'saucony', 'hoka', 'converse', 'puma', 'timberland']:\n",
    "    times = marathon_frame[marathon_frame['shoe'] == shoe]['marathon']\n",
    "    stat, p = stats.normaltest(times)\n",
    "    normality_results[shoe] = p\n",
    "\n",
    "for shoe, p_value in normality_results.items():\n",
    "    print(f\"{shoe}: p-value = {p_value}\")"
   ]
  },
  {
   "cell_type": "code",
   "execution_count": 14,
   "id": "40125c15",
   "metadata": {},
   "outputs": [
    {
     "name": "stdout",
     "output_type": "stream",
     "text": [
      "shoe\n",
      "adidas         652\n",
      "converse      1472\n",
      "hoka           262\n",
      "nike           229\n",
      "puma          1034\n",
      "saucony       1263\n",
      "timberland      88\n",
      "Name: marathon, dtype: int64\n"
     ]
    }
   ],
   "source": [
    "group_sizes = marathon_frame.groupby('shoe')['marathon'].size()\n",
    "print(group_sizes)"
   ]
  },
  {
   "cell_type": "code",
   "execution_count": 16,
   "id": "86698db2",
   "metadata": {},
   "outputs": [
    {
     "name": "stdout",
     "output_type": "stream",
     "text": [
      "No significant difference in variances across shoe groups.\n"
     ]
    }
   ],
   "source": [
    "shoe_groups = marathon_frame['shoe'].unique()\n",
    "\n",
    "group_data = [marathon_frame[marathon_frame['shoe'] == shoe]['marathon'] for shoe in shoe_groups]\n",
    "\n",
    "stat, p = stats.levene(*group_data)\n",
    "\n",
    "if p < 0.05:\n",
    "    print(\"Variances are significantly different across shoe groups\")\n",
    "else:\n",
    "    print(\"No significant difference in variances across shoe groups.\")"
   ]
  },
  {
   "cell_type": "code",
   "execution_count": 17,
   "id": "23cf68ee",
   "metadata": {},
   "outputs": [
    {
     "data": {
      "text/plain": [
       "F_onewayResult(statistic=1.0545716280465174, pvalue=0.38768383569947124)"
      ]
     },
     "execution_count": 17,
     "metadata": {},
     "output_type": "execute_result"
    }
   ],
   "source": [
    "stats.f_oneway(nike, adidas, saucony, hoka, converse, puma, timberland)"
   ]
  },
  {
   "cell_type": "code",
   "execution_count": 18,
   "id": "aa4b2800",
   "metadata": {},
   "outputs": [
    {
     "name": "stdout",
     "output_type": "stream",
     "text": [
      "                 sum_sq      df         F    PR(>F)\n",
      "shoe         187.079498     6.0  1.054572  0.387684\n",
      "Residual  147625.176302  4993.0       NaN       NaN\n"
     ]
    }
   ],
   "source": [
    "model = ols('marathon ~ shoe',                \n",
    "            data = marathon_frame).fit()\n",
    "                \n",
    "anova_result = sm.stats.anova_lm(model, typ = 2)\n",
    "print(anova_result)"
   ]
  },
  {
   "cell_type": "markdown",
   "id": "aee57bbc",
   "metadata": {},
   "source": [
    "### Result:\n",
    "\n",
    "Given that the p_value (0.387) is higher than 0.05, we fail to reject the H0 hypothesis. That is, there is no significant difference between the group means. As can be seen, we obtained the same p_value and f_statistic (1.054) with the statsmodels library as with the scipy library"
   ]
  },
  {
   "cell_type": "markdown",
   "id": "2d232c8b",
   "metadata": {},
   "source": [
    "### Now we will do new marathon times data where the group is different and then will run a second ANOVA"
   ]
  },
  {
   "cell_type": "code",
   "execution_count": 19,
   "id": "f275e45e",
   "metadata": {},
   "outputs": [],
   "source": [
    "np.random.seed(11)\n",
    "\n",
    "shoe_brands = np.random.choice(a = shoe_brand_names,\n",
    "                               p = [0.05, 0.13 ,0.25, 0.05, 0.3, 0.2, 0.02],\n",
    "                               size = 5000)\n",
    "\n",
    "adidas_marathon = stats.poisson.rvs(loc = 18, mu = 32, size = 5000)\n",
    "marathon_times = stats.poisson.rvs(loc = 18, mu = 30, size = 5000)\n",
    "marathon_times = np.where(shoe_brands == \"adidas\", adidas_marathon, marathon_times)\n",
    "\n",
    "marathon_frame = pd.DataFrame({\"shoe\" : shoe_brands, \"marathon\" : marathon_times})\n",
    "groups = marathon_frame.groupby(\"shoe\").groups"
   ]
  },
  {
   "cell_type": "code",
   "execution_count": 20,
   "id": "72c79eab",
   "metadata": {},
   "outputs": [
    {
     "data": {
      "text/plain": [
       "F_onewayResult(statistic=16.140575626102837, pvalue=1.7493012888568482e-18)"
      ]
     },
     "execution_count": 20,
     "metadata": {},
     "output_type": "execute_result"
    }
   ],
   "source": [
    "nike = marathon_times[groups[\"nike\"]]\n",
    "adidas = marathon_times[groups[\"adidas\"]]\n",
    "saucony = marathon_times[groups[\"saucony\"]]\n",
    "hoka = marathon_times[groups[\"hoka\"]]\n",
    "converse = marathon_times[groups[\"converse\"]]\n",
    "puma = marathon_times[groups[\"puma\"]]\n",
    "timberland = marathon_times[groups[\"timberland\"]]\n",
    "\n",
    "stats.f_oneway(nike, adidas, saucony, hoka, converse, puma, timberland)"
   ]
  },
  {
   "cell_type": "code",
   "execution_count": 21,
   "id": "b21b25a3",
   "metadata": {},
   "outputs": [
    {
     "name": "stdout",
     "output_type": "stream",
     "text": [
      "                 sum_sq      df          F        PR(>F)\n",
      "shoe        2875.823303     6.0  16.140576  1.749301e-18\n",
      "Residual  148270.070897  4993.0        NaN           NaN\n"
     ]
    }
   ],
   "source": [
    "model = ols('marathon ~ shoe',                \n",
    "            data = marathon_frame).fit()\n",
    "                \n",
    "anova_result = sm.stats.anova_lm(model, typ = 2)\n",
    "print(anova_result)"
   ]
  },
  {
   "cell_type": "markdown",
   "id": "362e1182",
   "metadata": {},
   "source": [
    "### Result: \n",
    "\n",
    "Given that the p_value (0.0000) is lower than 0.05, we will reject the H0 hypothesis. That is, there is significant difference between the group means. The result of the second hypothesis test revealed that there is a significant difference between the marathon finishing times of shoe brands. We made this difference. How? We changed the marathon finish time values for the adidas brand"
   ]
  },
  {
   "cell_type": "markdown",
   "id": "d0c36a88",
   "metadata": {},
   "source": [
    "### But what if we want to see which group causes the test to give a positive result?"
   ]
  },
  {
   "cell_type": "markdown",
   "id": "dddcdddb",
   "metadata": {},
   "source": [
    "To check which groups differ after getting a positive ANOVA result, we can use from \"post-hoc test\". This test helps us to perform separate t-tests (by using stats.ttest_ind()) for each pair of groups."
   ]
  },
  {
   "cell_type": "code",
   "execution_count": 22,
   "id": "d342da0a",
   "metadata": {},
   "outputs": [
    {
     "name": "stdout",
     "output_type": "stream",
     "text": [
      "Pairs of shoe brands: nike adidas\n",
      "TtestResult(statistic=-4.136913892235316, pvalue=3.858081777160946e-05, df=879.0)\n",
      "Pairs of shoe brands: nike saucony\n",
      "TtestResult(statistic=1.7294858472676442, pvalue=0.08392928249871691, df=1490.0)\n",
      "Pairs of shoe brands: nike hoka\n",
      "TtestResult(statistic=1.1732602515339092, pvalue=0.24126261991619619, df=489.0)\n",
      "Pairs of shoe brands: nike converse\n",
      "TtestResult(statistic=0.30991388348831994, pvalue=0.7566644519796516, df=1699.0)\n",
      "Pairs of shoe brands: nike puma\n",
      "TtestResult(statistic=0.9354867168632909, pvalue=0.34971663570171097, df=1261.0)\n",
      "Pairs of shoe brands: nike timberland\n",
      "TtestResult(statistic=0.5309697705983416, pvalue=0.5958138922346061, df=315.0)\n",
      "Pairs of shoe brands: adidas saucony\n",
      "TtestResult(statistic=9.238980918359598, pvalue=6.41210237819639e-20, df=1913.0)\n",
      "Pairs of shoe brands: adidas hoka\n",
      "TtestResult(statistic=5.739165261206918, pvalue=1.2945610765273465e-08, df=912.0)\n",
      "Pairs of shoe brands: adidas converse\n",
      "TtestResult(statistic=7.29943165739021, pvalue=4.0652460355524883e-13, df=2122.0)\n",
      "Pairs of shoe brands: adidas puma\n",
      "TtestResult(statistic=7.855306233242545, pvalue=7.049568972834711e-15, df=1684.0)\n",
      "Pairs of shoe brands: adidas timberland\n",
      "TtestResult(statistic=3.305393600024688, pvalue=0.0009942699974822208, df=738.0)\n",
      "Pairs of shoe brands: saucony hoka\n",
      "TtestResult(statistic=-0.3011984525227305, pvalue=0.7633042855462084, df=1523.0)\n",
      "Pairs of shoe brands: saucony converse\n",
      "TtestResult(statistic=-2.63099041535936, pvalue=0.00856146293304441, df=2733.0)\n",
      "Pairs of shoe brands: saucony puma\n",
      "TtestResult(statistic=-1.3641093894218923, pvalue=0.17266689796647722, df=2295.0)\n",
      "Pairs of shoe brands: saucony timberland\n",
      "TtestResult(statistic=-0.5159249230560374, pvalue=0.6059913934442851, df=1349.0)\n",
      "Pairs of shoe brands: hoka converse\n",
      "TtestResult(statistic=-1.204238650326239, pvalue=0.2286618915104788, df=1732.0)\n",
      "Pairs of shoe brands: hoka puma\n",
      "TtestResult(statistic=-0.53752807271082, pvalue=0.5909953226268481, df=1294.0)\n",
      "Pairs of shoe brands: hoka timberland\n",
      "TtestResult(statistic=-0.3012035312392803, pvalue=0.7634391873983083, df=348.0)\n",
      "Pairs of shoe brands: converse puma\n",
      "TtestResult(statistic=1.105608267067844, pvalue=0.2690023243951492, df=2504.0)\n",
      "Pairs of shoe brands: converse timberland\n",
      "TtestResult(statistic=0.39993738724488076, pvalue=0.6892574582631631, df=1558.0)\n",
      "Pairs of shoe brands: puma timberland\n",
      "TtestResult(statistic=-0.0028511868187033424, pvalue=0.9977255928791342, df=1120.0)\n"
     ]
    }
   ],
   "source": [
    "shoe_pairs = []\n",
    "\n",
    "for shoe1 in range(6):\n",
    "    for shoe2 in range(shoe1 + 1, 7):\n",
    "        shoe_pairs.append((shoe_brand_names[shoe1], shoe_brand_names[shoe2]))\n",
    "\n",
    "# conduct t-test on each pair\n",
    "for shoe1, shoe2 in shoe_pairs:\n",
    "    print(\"Pairs of shoe brands:\", shoe1, shoe2)\n",
    "    print(stats.ttest_ind(marathon_times[groups[shoe1]], \n",
    "                          marathon_times[groups[shoe2]]))"
   ]
  },
  {
   "cell_type": "markdown",
   "id": "86e90085",
   "metadata": {},
   "source": [
    "### Interpreting the results: \n",
    "\n",
    "The p-values for each dual t-test indicate that the mean of the adidas brands is likely to differ from the other groups. For this reason, the p-values for the adidas group in each t-test are significantly smaller than 0.05. But using unadjusted pairwise t-tests may overestimate significance. Of course, the more comparisons we make, the more likely we will encounter an unlikely outcome by chance. We can adjust this multiple comparison problem by dividing the statistical significance level by the number of comparisons made. For our problem, if significance level is 0.05, we'd be looking for p-values of 0.05/10 = 0.005 or less. This adjustment method is called as the Bonferroni correction. Another common post hoc-test is Tukey's test."
   ]
  },
  {
   "cell_type": "markdown",
   "id": "96babf90",
   "metadata": {},
   "source": [
    "### Conduct pairwise_tukeyhsd() test to see which group mean differs"
   ]
  },
  {
   "cell_type": "code",
   "execution_count": 23,
   "id": "b28d794f",
   "metadata": {},
   "outputs": [
    {
     "data": {
      "text/html": [
       "<table class=\"simpletable\">\n",
       "<caption>Multiple Comparison of Means - Tukey HSD, FWER=0.05</caption>\n",
       "<tr>\n",
       "   <th>group1</th>    <th>group2</th>   <th>meandiff</th>  <th>p-adj</th>  <th>lower</th>   <th>upper</th>  <th>reject</th>\n",
       "</tr>\n",
       "<tr>\n",
       "   <td>adidas</td>   <td>converse</td>   <td>-1.9109</td>   <td>0.0</td>  <td>-2.667</td>  <td>-1.1548</td>  <td>True</td> \n",
       "</tr>\n",
       "<tr>\n",
       "   <td>adidas</td>     <td>hoka</td>     <td>-2.3509</td>   <td>0.0</td>  <td>-3.5266</td> <td>-1.1752</td>  <td>True</td> \n",
       "</tr>\n",
       "<tr>\n",
       "   <td>adidas</td>     <td>nike</td>     <td>-1.7906</td> <td>0.0004</td> <td>-3.0252</td> <td>-0.5559</td>  <td>True</td> \n",
       "</tr>\n",
       "<tr>\n",
       "   <td>adidas</td>     <td>puma</td>     <td>-2.1539</td>   <td>0.0</td>  <td>-2.9577</td> <td>-1.3501</td>  <td>True</td> \n",
       "</tr>\n",
       "<tr>\n",
       "   <td>adidas</td>    <td>saucony</td>   <td>-2.4609</td>   <td>0.0</td>  <td>-3.236</td>  <td>-1.6858</td>  <td>True</td> \n",
       "</tr>\n",
       "<tr>\n",
       "   <td>adidas</td>  <td>timberland</td>  <td>-2.1522</td> <td>0.0092</td> <td>-3.9776</td> <td>-0.3268</td>  <td>True</td> \n",
       "</tr>\n",
       "<tr>\n",
       "  <td>converse</td>    <td>hoka</td>      <td>-0.44</td>  <td>0.8928</td> <td>-1.5178</td> <td>0.6377</td>   <td>False</td>\n",
       "</tr>\n",
       "<tr>\n",
       "  <td>converse</td>    <td>nike</td>     <td>0.1203</td>  <td>0.9999</td> <td>-1.0215</td> <td>1.2621</td>   <td>False</td>\n",
       "</tr>\n",
       "<tr>\n",
       "  <td>converse</td>    <td>puma</td>     <td>-0.243</td>  <td>0.9286</td> <td>-0.8952</td> <td>0.4092</td>   <td>False</td>\n",
       "</tr>\n",
       "<tr>\n",
       "  <td>converse</td>   <td>saucony</td>    <td>-0.55</td>  <td>0.1167</td> <td>-1.1665</td> <td>0.0664</td>   <td>False</td>\n",
       "</tr>\n",
       "<tr>\n",
       "  <td>converse</td> <td>timberland</td>  <td>-0.2413</td> <td>0.9997</td> <td>-2.0052</td> <td>1.5226</td>   <td>False</td>\n",
       "</tr>\n",
       "<tr>\n",
       "    <td>hoka</td>      <td>nike</td>     <td>0.5603</td>  <td>0.9168</td> <td>-0.8937</td> <td>2.0144</td>   <td>False</td>\n",
       "</tr>\n",
       "<tr>\n",
       "    <td>hoka</td>      <td>puma</td>      <td>0.197</td>  <td>0.9985</td> <td>-0.9147</td> <td>1.3087</td>   <td>False</td>\n",
       "</tr>\n",
       "<tr>\n",
       "    <td>hoka</td>     <td>saucony</td>    <td>-0.11</td>  <td>0.9999</td> <td>-1.2012</td> <td>0.9811</td>   <td>False</td>\n",
       "</tr>\n",
       "<tr>\n",
       "    <td>hoka</td>   <td>timberland</td>  <td>0.1987</td>  <td>0.9999</td> <td>-1.7816</td> <td>2.1791</td>   <td>False</td>\n",
       "</tr>\n",
       "<tr>\n",
       "    <td>nike</td>      <td>puma</td>     <td>-0.3633</td> <td>0.9707</td> <td>-1.5372</td> <td>0.8106</td>   <td>False</td>\n",
       "</tr>\n",
       "<tr>\n",
       "    <td>nike</td>     <td>saucony</td>   <td>-0.6703</td> <td>0.6075</td> <td>-1.8248</td> <td>0.4841</td>   <td>False</td>\n",
       "</tr>\n",
       "<tr>\n",
       "    <td>nike</td>   <td>timberland</td>  <td>-0.3616</td> <td>0.9984</td> <td>-2.3775</td> <td>1.6543</td>   <td>False</td>\n",
       "</tr>\n",
       "<tr>\n",
       "    <td>puma</td>     <td>saucony</td>   <td>-0.3071</td> <td>0.8313</td> <td>-0.9811</td>  <td>0.367</td>   <td>False</td>\n",
       "</tr>\n",
       "<tr>\n",
       "    <td>puma</td>   <td>timberland</td>  <td>0.0017</td>    <td>1.0</td>  <td>-1.7831</td> <td>1.7865</td>   <td>False</td>\n",
       "</tr>\n",
       "<tr>\n",
       "   <td>saucony</td> <td>timberland</td>  <td>0.3087</td>  <td>0.9987</td> <td>-1.4633</td> <td>2.0808</td>   <td>False</td>\n",
       "</tr>\n",
       "</table>"
      ],
      "text/latex": [
       "\\begin{center}\n",
       "\\begin{tabular}{ccccccc}\n",
       "\\toprule\n",
       "\\textbf{group1} & \\textbf{group2} & \\textbf{meandiff} & \\textbf{p-adj} & \\textbf{lower} & \\textbf{upper} & \\textbf{reject}  \\\\\n",
       "\\midrule\n",
       "     adidas     &     converse    &      -1.9109      &      0.0       &     -2.667     &    -1.1548     &       True       \\\\\n",
       "     adidas     &       hoka      &      -2.3509      &      0.0       &    -3.5266     &    -1.1752     &       True       \\\\\n",
       "     adidas     &       nike      &      -1.7906      &     0.0004     &    -3.0252     &    -0.5559     &       True       \\\\\n",
       "     adidas     &       puma      &      -2.1539      &      0.0       &    -2.9577     &    -1.3501     &       True       \\\\\n",
       "     adidas     &     saucony     &      -2.4609      &      0.0       &     -3.236     &    -1.6858     &       True       \\\\\n",
       "     adidas     &    timberland   &      -2.1522      &     0.0092     &    -3.9776     &    -0.3268     &       True       \\\\\n",
       "    converse    &       hoka      &       -0.44       &     0.8928     &    -1.5178     &     0.6377     &      False       \\\\\n",
       "    converse    &       nike      &       0.1203      &     0.9999     &    -1.0215     &     1.2621     &      False       \\\\\n",
       "    converse    &       puma      &       -0.243      &     0.9286     &    -0.8952     &     0.4092     &      False       \\\\\n",
       "    converse    &     saucony     &       -0.55       &     0.1167     &    -1.1665     &     0.0664     &      False       \\\\\n",
       "    converse    &    timberland   &      -0.2413      &     0.9997     &    -2.0052     &     1.5226     &      False       \\\\\n",
       "      hoka      &       nike      &       0.5603      &     0.9168     &    -0.8937     &     2.0144     &      False       \\\\\n",
       "      hoka      &       puma      &       0.197       &     0.9985     &    -0.9147     &     1.3087     &      False       \\\\\n",
       "      hoka      &     saucony     &       -0.11       &     0.9999     &    -1.2012     &     0.9811     &      False       \\\\\n",
       "      hoka      &    timberland   &       0.1987      &     0.9999     &    -1.7816     &     2.1791     &      False       \\\\\n",
       "      nike      &       puma      &      -0.3633      &     0.9707     &    -1.5372     &     0.8106     &      False       \\\\\n",
       "      nike      &     saucony     &      -0.6703      &     0.6075     &    -1.8248     &     0.4841     &      False       \\\\\n",
       "      nike      &    timberland   &      -0.3616      &     0.9984     &    -2.3775     &     1.6543     &      False       \\\\\n",
       "      puma      &     saucony     &      -0.3071      &     0.8313     &    -0.9811     &     0.367      &      False       \\\\\n",
       "      puma      &    timberland   &       0.0017      &      1.0       &    -1.7831     &     1.7865     &      False       \\\\\n",
       "    saucony     &    timberland   &       0.3087      &     0.9987     &    -1.4633     &     2.0808     &      False       \\\\\n",
       "\\bottomrule\n",
       "\\end{tabular}\n",
       "%\\caption{Multiple Comparison of Means - Tukey HSD, FWER=0.05}\n",
       "\\end{center}"
      ],
      "text/plain": [
       "<class 'statsmodels.iolib.table.SimpleTable'>"
      ]
     },
     "execution_count": 23,
     "metadata": {},
     "output_type": "execute_result"
    },
    {
     "data": {
      "image/png": "[encoded data removed]",
      "text/plain": [
       "<Figure size 1200x700 with 1 Axes>"
      ]
     },
     "metadata": {},
     "output_type": "display_data"
    }
   ],
   "source": [
    "tukey = pairwise_tukeyhsd(endog = marathon_times, groups = shoe_brands, alpha = 0.05)\n",
    "\n",
    "tukey.plot_simultaneous(figsize = (12, 7))    \n",
    "plt.vlines(x = 49.5, ymin = -0.3, ymax = 5, color = \"#F0260A\", linestyles = \"dashed\")\n",
    "tukey.summary()"
   ]
  },
  {
   "cell_type": "markdown",
   "id": "cdfd0f59",
   "metadata": {},
   "source": [
    "### Interpreting the results: \n",
    "\n",
    "Everything is clear from the results of the Tukey test. By looking at the results of this test, we can see whether we can reject the null hypothesis for each pair of the groups on the significance level we consider, also we can see the confidence intervals and the mean differences. This test shows us that the adidas group is significantly different from the others"
   ]
  }
 ],
 "metadata": {
  "kernelspec": {
   "display_name": "Python 3 (ipykernel)",
   "language": "python",
   "name": "python3"
  },
  "language_info": {
   "codemirror_mode": {
    "name": "ipython",
    "version": 3
   },
   "file_extension": ".py",
   "mimetype": "text/x-python",
   "name": "python",
   "nbconvert_exporter": "python",
   "pygments_lexer": "ipython3",
   "version": "3.11.5"
  }
 },
 "nbformat": 4,
 "nbformat_minor": 5
}
