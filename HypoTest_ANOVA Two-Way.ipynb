{
 "cells": [
  {
   "cell_type": "markdown",
   "id": "3ae1b273",
   "metadata": {},
   "source": [
    "In one way ANOVA, a continious response variable is examined against different levels of one categorical variable.\n",
    "\n",
    "However if a response variable is being studied against two or multiple categorical variables then its called n-way ANOVA. But for the sake of simplicity we will explore two way ANOVA in this notebook. In two way ANOVA there are two categorical variables having multiple levels.\n",
    "\n",
    "Here are some important terms explained.\n",
    "\n",
    "Main effect: The effect of a single variable on the response. For example if we are using gender and post code variable for one city to analyze sale price of a particular product then any change in sale studied against gender or post code alone is called main effect.\n",
    "\n",
    "Interaction effect: Considering the example of analyzing sale price of product in a city based on gender and post code, so change in both sale price of product based on gender and post code combinition is called interaction effect. In many cases when two variables are studied together then effects are not additive.\n",
    "\n",
    "We will explore two way ANOVA for ames housing dataset."
   ]
  },
  {
   "cell_type": "code",
   "execution_count": 2,
   "id": "4253a46c",
   "metadata": {},
   "outputs": [],
   "source": [
    "import pandas as pd\n",
    "from scipy import stats\n",
    "from matplotlib import pyplot as plt\n",
    "import numpy as np\n",
    "from statsmodels.formula.api import ols\n",
    "import statsmodels.stats.api as sms\n",
    "from statsmodels.graphics.factorplots import interaction_plot"
   ]
  },
  {
   "cell_type": "code",
   "execution_count": 7,
   "id": "d1332f9d",
   "metadata": {},
   "outputs": [],
   "source": [
    "df_ameshousing = pd.read_csv(\"E:\\\\Bagas's File\\\\Data Science Bagas\\\\Datasets\\\\AmesHousing.csv\")"
   ]
  },
  {
   "cell_type": "code",
   "execution_count": 8,
   "id": "5f532efd",
   "metadata": {},
   "outputs": [
    {
     "data": {
      "text/html": [
       "<div>\n",
       "<style scoped>\n",
       "    .dataframe tbody tr th:only-of-type {\n",
       "        vertical-align: middle;\n",
       "    }\n",
       "\n",
       "    .dataframe tbody tr th {\n",
       "        vertical-align: top;\n",
       "    }\n",
       "\n",
       "    .dataframe thead th {\n",
       "        text-align: right;\n",
       "    }\n",
       "</style>\n",
       "<table border=\"1\" class=\"dataframe\">\n",
       "  <thead>\n",
       "    <tr style=\"text-align: right;\">\n",
       "      <th></th>\n",
       "      <th>Order</th>\n",
       "      <th>PID</th>\n",
       "      <th>MS SubClass</th>\n",
       "      <th>MS Zoning</th>\n",
       "      <th>Lot Frontage</th>\n",
       "      <th>Lot Area</th>\n",
       "      <th>Street</th>\n",
       "      <th>Alley</th>\n",
       "      <th>Lot Shape</th>\n",
       "      <th>Land Contour</th>\n",
       "      <th>...</th>\n",
       "      <th>Pool Area</th>\n",
       "      <th>Pool QC</th>\n",
       "      <th>Fence</th>\n",
       "      <th>Misc Feature</th>\n",
       "      <th>Misc Val</th>\n",
       "      <th>Mo Sold</th>\n",
       "      <th>Yr Sold</th>\n",
       "      <th>Sale Type</th>\n",
       "      <th>Sale Condition</th>\n",
       "      <th>SalePrice</th>\n",
       "    </tr>\n",
       "  </thead>\n",
       "  <tbody>\n",
       "    <tr>\n",
       "      <th>0</th>\n",
       "      <td>1</td>\n",
       "      <td>526301100</td>\n",
       "      <td>20</td>\n",
       "      <td>RL</td>\n",
       "      <td>141.0</td>\n",
       "      <td>31770</td>\n",
       "      <td>Pave</td>\n",
       "      <td>NaN</td>\n",
       "      <td>IR1</td>\n",
       "      <td>Lvl</td>\n",
       "      <td>...</td>\n",
       "      <td>0</td>\n",
       "      <td>NaN</td>\n",
       "      <td>NaN</td>\n",
       "      <td>NaN</td>\n",
       "      <td>0</td>\n",
       "      <td>5</td>\n",
       "      <td>2010</td>\n",
       "      <td>WD</td>\n",
       "      <td>Normal</td>\n",
       "      <td>215000</td>\n",
       "    </tr>\n",
       "    <tr>\n",
       "      <th>1</th>\n",
       "      <td>2</td>\n",
       "      <td>526350040</td>\n",
       "      <td>20</td>\n",
       "      <td>RH</td>\n",
       "      <td>80.0</td>\n",
       "      <td>11622</td>\n",
       "      <td>Pave</td>\n",
       "      <td>NaN</td>\n",
       "      <td>Reg</td>\n",
       "      <td>Lvl</td>\n",
       "      <td>...</td>\n",
       "      <td>0</td>\n",
       "      <td>NaN</td>\n",
       "      <td>MnPrv</td>\n",
       "      <td>NaN</td>\n",
       "      <td>0</td>\n",
       "      <td>6</td>\n",
       "      <td>2010</td>\n",
       "      <td>WD</td>\n",
       "      <td>Normal</td>\n",
       "      <td>105000</td>\n",
       "    </tr>\n",
       "    <tr>\n",
       "      <th>2</th>\n",
       "      <td>3</td>\n",
       "      <td>526351010</td>\n",
       "      <td>20</td>\n",
       "      <td>RL</td>\n",
       "      <td>81.0</td>\n",
       "      <td>14267</td>\n",
       "      <td>Pave</td>\n",
       "      <td>NaN</td>\n",
       "      <td>IR1</td>\n",
       "      <td>Lvl</td>\n",
       "      <td>...</td>\n",
       "      <td>0</td>\n",
       "      <td>NaN</td>\n",
       "      <td>NaN</td>\n",
       "      <td>Gar2</td>\n",
       "      <td>12500</td>\n",
       "      <td>6</td>\n",
       "      <td>2010</td>\n",
       "      <td>WD</td>\n",
       "      <td>Normal</td>\n",
       "      <td>172000</td>\n",
       "    </tr>\n",
       "    <tr>\n",
       "      <th>3</th>\n",
       "      <td>4</td>\n",
       "      <td>526353030</td>\n",
       "      <td>20</td>\n",
       "      <td>RL</td>\n",
       "      <td>93.0</td>\n",
       "      <td>11160</td>\n",
       "      <td>Pave</td>\n",
       "      <td>NaN</td>\n",
       "      <td>Reg</td>\n",
       "      <td>Lvl</td>\n",
       "      <td>...</td>\n",
       "      <td>0</td>\n",
       "      <td>NaN</td>\n",
       "      <td>NaN</td>\n",
       "      <td>NaN</td>\n",
       "      <td>0</td>\n",
       "      <td>4</td>\n",
       "      <td>2010</td>\n",
       "      <td>WD</td>\n",
       "      <td>Normal</td>\n",
       "      <td>244000</td>\n",
       "    </tr>\n",
       "    <tr>\n",
       "      <th>4</th>\n",
       "      <td>5</td>\n",
       "      <td>527105010</td>\n",
       "      <td>60</td>\n",
       "      <td>RL</td>\n",
       "      <td>74.0</td>\n",
       "      <td>13830</td>\n",
       "      <td>Pave</td>\n",
       "      <td>NaN</td>\n",
       "      <td>IR1</td>\n",
       "      <td>Lvl</td>\n",
       "      <td>...</td>\n",
       "      <td>0</td>\n",
       "      <td>NaN</td>\n",
       "      <td>MnPrv</td>\n",
       "      <td>NaN</td>\n",
       "      <td>0</td>\n",
       "      <td>3</td>\n",
       "      <td>2010</td>\n",
       "      <td>WD</td>\n",
       "      <td>Normal</td>\n",
       "      <td>189900</td>\n",
       "    </tr>\n",
       "  </tbody>\n",
       "</table>\n",
       "<p>5 rows × 82 columns</p>\n",
       "</div>"
      ],
      "text/plain": [
       "   Order        PID  MS SubClass MS Zoning  Lot Frontage  Lot Area Street  \\\n",
       "0      1  526301100           20        RL         141.0     31770   Pave   \n",
       "1      2  526350040           20        RH          80.0     11622   Pave   \n",
       "2      3  526351010           20        RL          81.0     14267   Pave   \n",
       "3      4  526353030           20        RL          93.0     11160   Pave   \n",
       "4      5  527105010           60        RL          74.0     13830   Pave   \n",
       "\n",
       "  Alley Lot Shape Land Contour  ... Pool Area Pool QC  Fence Misc Feature  \\\n",
       "0   NaN       IR1          Lvl  ...         0     NaN    NaN          NaN   \n",
       "1   NaN       Reg          Lvl  ...         0     NaN  MnPrv          NaN   \n",
       "2   NaN       IR1          Lvl  ...         0     NaN    NaN         Gar2   \n",
       "3   NaN       Reg          Lvl  ...         0     NaN    NaN          NaN   \n",
       "4   NaN       IR1          Lvl  ...         0     NaN  MnPrv          NaN   \n",
       "\n",
       "  Misc Val Mo Sold Yr Sold Sale Type  Sale Condition  SalePrice  \n",
       "0        0       5    2010       WD           Normal     215000  \n",
       "1        0       6    2010       WD           Normal     105000  \n",
       "2    12500       6    2010       WD           Normal     172000  \n",
       "3        0       4    2010       WD           Normal     244000  \n",
       "4        0       3    2010       WD           Normal     189900  \n",
       "\n",
       "[5 rows x 82 columns]"
      ]
     },
     "execution_count": 8,
     "metadata": {},
     "output_type": "execute_result"
    }
   ],
   "source": [
    "df_ameshousing.head()"
   ]
  },
  {
   "cell_type": "markdown",
   "id": "dc9ee44e",
   "metadata": {},
   "source": [
    "For two way ANOVA, we will pick following variables:\n",
    "\n",
    "1. Heating QC i.e. the quality of heating available in house\n",
    "2. Season sold : This variable needs to be engineered from month sold.\n",
    "\n",
    "Seasons feature doesnt exist so we will have to engineer it out of months of sold feature. As Ames Iowa is located in northern hemisphere so we set seasons values as follows:\n",
    "\n",
    "1. December, January and February are Winter months\n",
    "2. March , April and May are Spring months\n",
    "3. June, July and August are Summer months\n",
    "4. September, October and November are Autumn months\n",
    "\n",
    "If we were looking into a place which is located in Southern hemisphere then seasons will be mapped to months in a different way because seasons are opposite from northern hemisphere."
   ]
  },
  {
   "cell_type": "code",
   "execution_count": 9,
   "id": "3713e793",
   "metadata": {},
   "outputs": [],
   "source": [
    "df_ameshousing['SeasonOfYear']=df_ameshousing['Mo Sold'].map({12:'Winter', 1:'Winter', 2:'Winter',\n",
    "                                                             3:'Spring',4:'Spring',5:'Spring',\n",
    "                                                             6:'Summer',7:'Summer',8:'Summer',\n",
    "                                                             9: 'Autumn',10:'Autumn',11:'Autumn'} )"
   ]
  },
  {
   "cell_type": "code",
   "execution_count": 10,
   "id": "82c682de",
   "metadata": {},
   "outputs": [
    {
     "data": {
      "text/plain": [
       "0"
      ]
     },
     "execution_count": 10,
     "metadata": {},
     "output_type": "execute_result"
    }
   ],
   "source": [
    "df_ameshousing['SeasonOfYear'].isnull().sum()"
   ]
  },
  {
   "cell_type": "code",
   "execution_count": 11,
   "id": "b6a48e0f",
   "metadata": {},
   "outputs": [
    {
     "data": {
      "text/plain": [
       "array(['Fa', 'TA', 'Ex', 'Gd', 'Po'], dtype=object)"
      ]
     },
     "execution_count": 11,
     "metadata": {},
     "output_type": "execute_result"
    }
   ],
   "source": [
    "df_ameshousing['Heating QC'].unique()"
   ]
  },
  {
   "cell_type": "markdown",
   "id": "a9a048f9",
   "metadata": {},
   "source": [
    "Here is explanation of each category:\n",
    "\n",
    "1. Ex   Excellent\n",
    "2. Gd   Good\n",
    "3. TA   Average/Typical\n",
    "4. Fa   Fair\n",
    "5. Po   Poor\n",
    "\n",
    "\n",
    "As there is space in \"Heating QC\" variable so we will rename it to Heating_QC so that it does not cause issue in some function call. Although it may not cause issue but it is just to be on safe side."
   ]
  },
  {
   "cell_type": "code",
   "execution_count": 12,
   "id": "21fa3f67",
   "metadata": {},
   "outputs": [],
   "source": [
    "df_ameshousing.rename(columns = {'Heating QC':'Heating_QC'},inplace=True)"
   ]
  },
  {
   "cell_type": "markdown",
   "id": "fa8f0108",
   "metadata": {},
   "source": [
    "Now we will use ols() function from statsmodels.formula.api to find out impact of these two categorical variables and als their interaction effect."
   ]
  },
  {
   "cell_type": "code",
   "execution_count": 14,
   "id": "281e9846",
   "metadata": {},
   "outputs": [],
   "source": [
    "multiple_variables=ols('SalePrice ~ C(SeasonOfYear) + C(Heating_QC) + C(SeasonOfYear): C(Heating_QC) ',data=df_ameshousing).fit()"
   ]
  },
  {
   "cell_type": "code",
   "execution_count": 15,
   "id": "6a5614fb",
   "metadata": {},
   "outputs": [
    {
     "name": "stderr",
     "output_type": "stream",
     "text": [
      "C:\\Users\\lenovo\\anaconda3\\Lib\\site-packages\\statsmodels\\base\\model.py:1888: ValueWarning: covariance of constraints does not have full rank. The number of constraints is 3, but rank is 1\n",
      "  warnings.warn('covariance of constraints does not have full '\n",
      "C:\\Users\\lenovo\\anaconda3\\Lib\\site-packages\\statsmodels\\base\\model.py:1888: ValueWarning: covariance of constraints does not have full rank. The number of constraints is 4, but rank is 2\n",
      "  warnings.warn('covariance of constraints does not have full '\n",
      "C:\\Users\\lenovo\\anaconda3\\Lib\\site-packages\\statsmodels\\base\\model.py:1888: ValueWarning: covariance of constraints does not have full rank. The number of constraints is 12, but rank is 10\n",
      "  warnings.warn('covariance of constraints does not have full '\n"
     ]
    },
    {
     "data": {
      "text/html": [
       "<div>\n",
       "<style scoped>\n",
       "    .dataframe tbody tr th:only-of-type {\n",
       "        vertical-align: middle;\n",
       "    }\n",
       "\n",
       "    .dataframe tbody tr th {\n",
       "        vertical-align: top;\n",
       "    }\n",
       "\n",
       "    .dataframe thead th {\n",
       "        text-align: right;\n",
       "    }\n",
       "</style>\n",
       "<table border=\"1\" class=\"dataframe\">\n",
       "  <thead>\n",
       "    <tr style=\"text-align: right;\">\n",
       "      <th></th>\n",
       "      <th>sum_sq</th>\n",
       "      <th>df</th>\n",
       "      <th>F</th>\n",
       "      <th>PR(&gt;F)</th>\n",
       "    </tr>\n",
       "  </thead>\n",
       "  <tbody>\n",
       "    <tr>\n",
       "      <th>C(SeasonOfYear)</th>\n",
       "      <td>8.296718e+10</td>\n",
       "      <td>3.0</td>\n",
       "      <td>5.542644</td>\n",
       "      <td>1.862459e-02</td>\n",
       "    </tr>\n",
       "    <tr>\n",
       "      <th>C(Heating_QC)</th>\n",
       "      <td>6.016033e+12</td>\n",
       "      <td>4.0</td>\n",
       "      <td>301.427003</td>\n",
       "      <td>1.051042e-119</td>\n",
       "    </tr>\n",
       "    <tr>\n",
       "      <th>C(SeasonOfYear):C(Heating_QC)</th>\n",
       "      <td>8.580682e+10</td>\n",
       "      <td>12.0</td>\n",
       "      <td>1.433087</td>\n",
       "      <td>1.590877e-01</td>\n",
       "    </tr>\n",
       "    <tr>\n",
       "      <th>Residual</th>\n",
       "      <td>1.452979e+13</td>\n",
       "      <td>2912.0</td>\n",
       "      <td>NaN</td>\n",
       "      <td>NaN</td>\n",
       "    </tr>\n",
       "  </tbody>\n",
       "</table>\n",
       "</div>"
      ],
      "text/plain": [
       "                                     sum_sq      df           F         PR(>F)\n",
       "C(SeasonOfYear)                8.296718e+10     3.0    5.542644   1.862459e-02\n",
       "C(Heating_QC)                  6.016033e+12     4.0  301.427003  1.051042e-119\n",
       "C(SeasonOfYear):C(Heating_QC)  8.580682e+10    12.0    1.433087   1.590877e-01\n",
       "Residual                       1.452979e+13  2912.0         NaN            NaN"
      ]
     },
     "execution_count": 15,
     "metadata": {},
     "output_type": "execute_result"
    }
   ],
   "source": [
    "sms.anova_lm(multiple_variables, typ=2)"
   ]
  },
  {
   "cell_type": "markdown",
   "id": "9d82f141",
   "metadata": {},
   "source": [
    "Here is how we can interpret these results.\n",
    "\n",
    "p-value for SeasonOfYear <0.05 so it means that is significant contributed in sale price p-value for Heating_QC <0.05 so it is also contributing in sale price p-value for interaction of SeasonOfYear and Heating_QC <0.05 which means that sale price depends upon heating quality and season of year.\n",
    "\n",
    "This effect can be visualized by plotting an interaction plot."
   ]
  },
  {
   "cell_type": "code",
   "execution_count": 16,
   "id": "db29deba",
   "metadata": {},
   "outputs": [
    {
     "name": "stderr",
     "output_type": "stream",
     "text": [
      "C:\\Users\\lenovo\\AppData\\Local\\Temp\\ipykernel_20824\\560563135.py:1: UserWarning: FigureCanvasAgg is non-interactive, and thus cannot be shown\n",
      "  interaction_plot(df_ameshousing['Heating_QC'],df_ameshousing['SeasonOfYear'],df_ameshousing['SalePrice']).show()\n"
     ]
    },
    {
     "data": {
      "image/png": "[encoded data removed]",
      "text/plain": [
       "<Figure size 640x480 with 1 Axes>"
      ]
     },
     "metadata": {},
     "output_type": "display_data"
    }
   ],
   "source": [
    "interaction_plot(df_ameshousing['Heating_QC'],df_ameshousing['SeasonOfYear'],df_ameshousing['SalePrice']).show()"
   ]
  },
  {
   "cell_type": "markdown",
   "id": "823eba29",
   "metadata": {},
   "source": [
    "As we can see that in Winter season, sale price went down for houses with poor or fair quality heating."
   ]
  }
 ],
 "metadata": {
  "kernelspec": {
   "display_name": "Python 3 (ipykernel)",
   "language": "python",
   "name": "python3"
  },
  "language_info": {
   "codemirror_mode": {
    "name": "ipython",
    "version": 3
   },
   "file_extension": ".py",
   "mimetype": "text/x-python",
   "name": "python",
   "nbconvert_exporter": "python",
   "pygments_lexer": "ipython3",
   "version": "3.11.4"
  }
 },
 "nbformat": 4,
 "nbformat_minor": 5
}
